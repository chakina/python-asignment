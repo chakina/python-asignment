{
  "nbformat": 4,
  "nbformat_minor": 0,
  "metadata": {
    "colab": {
      "provenance": []
    },
    "kernelspec": {
      "name": "python3",
      "display_name": "Python 3"
    },
    "language_info": {
      "name": "python"
    }
  },
  "cells": [
    {
      "cell_type": "markdown",
      "source": [
        "Data Types\n"
      ],
      "metadata": {
        "id": "msvxrvdOlrre"
      }
    },
    {
      "cell_type": "code",
      "source": [
        "my_integer = 42\n",
        "my_float = 3.14\n",
        "my_string = \"Hello, Python!\"\n",
        "print(type(my_integer))\n",
        "print(type(my_float))\n",
        "print(type(my_string))\n",
        "\n"
      ],
      "metadata": {
        "colab": {
          "base_uri": "https://localhost:8080/"
        },
        "id": "976OgIp-lxO2",
        "outputId": "2ad6b2ac-3223-4db0-b3e2-0e6f677b76fa"
      },
      "execution_count": 3,
      "outputs": [
        {
          "output_type": "stream",
          "name": "stdout",
          "text": [
            "<class 'int'>\n",
            "<class 'float'>\n",
            "<class 'str'>\n"
          ]
        }
      ]
    },
    {
      "cell_type": "markdown",
      "source": [
        "Operators"
      ],
      "metadata": {
        "id": "vTmIO-CxmAQ4"
      }
    },
    {
      "cell_type": "code",
      "source": [
        "def calculate_rectangle_area():\n",
        "  length = float(input(\"Enter the length of the rectangle: \"))\n",
        "  width = float(input(\"Enter the width of the rectangle: \"))\n",
        "  area = length * width\n",
        "  return area\n",
        "\n",
        "print(\"The area of the rectangle is:\", calculate_rectangle_area())\n"
      ],
      "metadata": {
        "colab": {
          "base_uri": "https://localhost:8080/"
        },
        "id": "CxRkRvUSmH9z",
        "outputId": "85501d92-fb81-4e0e-9436-cdf27d0cb0e9"
      },
      "execution_count": 4,
      "outputs": [
        {
          "output_type": "stream",
          "name": "stdout",
          "text": [
            "Enter the length of the rectangle: 30\n",
            "Enter the width of the rectangle: 20\n",
            "The area of the rectangle is: 600.0\n"
          ]
        }
      ]
    },
    {
      "cell_type": "code",
      "source": [
        "print(15 % 4)\n"
      ],
      "metadata": {
        "colab": {
          "base_uri": "https://localhost:8080/"
        },
        "id": "74L5sDc6mnwb",
        "outputId": "f65715ca-cc96-40f4-daa5-800824d9b37d"
      },
      "execution_count": 5,
      "outputs": [
        {
          "output_type": "stream",
          "name": "stdout",
          "text": [
            "3\n"
          ]
        }
      ]
    },
    {
      "cell_type": "markdown",
      "source": [
        "conditional programming"
      ],
      "metadata": {
        "id": "8PX5Doq4nI5g"
      }
    },
    {
      "cell_type": "code",
      "source": [
        "def check_number_type():\n",
        "  number = float(input(\"Enter a number: \"))\n",
        "  if number > 0:\n",
        "    print(\"The number is positive.\")\n",
        "  elif number < 0:\n",
        "    print(\"The number is negative.\")\n",
        "  else:\n",
        "    print(\"The number is zero.\")\n",
        "\n",
        "check_number_type()\n"
      ],
      "metadata": {
        "colab": {
          "base_uri": "https://localhost:8080/"
        },
        "id": "I9i3qXBsnLRK",
        "outputId": "b81db1a0-0187-499c-f462-f17e5150606b"
      },
      "execution_count": 6,
      "outputs": [
        {
          "output_type": "stream",
          "name": "stdout",
          "text": [
            "Enter a number: 72\n",
            "The number is positive.\n"
          ]
        }
      ]
    },
    {
      "cell_type": "code",
      "source": [
        "def is_leap_year(year):\n",
        "  if year % 4 == 0 and (year % 100 != 0 or year % 400 == 0):\n",
        "    return True\n",
        "  else:\n",
        "    return False\n",
        "\n",
        "year = int(input(\"Enter a year: \"))\n",
        "if is_leap_year(year):\n",
        "  print(year, \"is a leap year.\")\n",
        "else:\n",
        "  print(year, \"is not a leap year.\")\n"
      ],
      "metadata": {
        "colab": {
          "base_uri": "https://localhost:8080/"
        },
        "id": "mtRTbP0in7ie",
        "outputId": "c8836f1c-f11c-435b-d9a8-6363a7fae04f"
      },
      "execution_count": 7,
      "outputs": [
        {
          "output_type": "stream",
          "name": "stdout",
          "text": [
            "Enter a year: 2002\n",
            "2002 is not a leap year.\n"
          ]
        }
      ]
    },
    {
      "cell_type": "markdown",
      "source": [
        "Loops"
      ],
      "metadata": {
        "id": "C-gsTBe8oIeF"
      }
    },
    {
      "cell_type": "code",
      "source": [
        "i = 1\n",
        "while i <= 5:\n",
        "  print(i * i)\n",
        "  i += 1\n"
      ],
      "metadata": {
        "colab": {
          "base_uri": "https://localhost:8080/"
        },
        "id": "-lN-xDa6oPKe",
        "outputId": "0c7fa819-4732-43b9-df1d-583e24f55613"
      },
      "execution_count": 8,
      "outputs": [
        {
          "output_type": "stream",
          "name": "stdout",
          "text": [
            "1\n",
            "4\n",
            "9\n",
            "16\n",
            "25\n"
          ]
        }
      ]
    },
    {
      "cell_type": "code",
      "source": [
        "my_string = \"Python\"\n",
        "for character in my_string:\n",
        "  print(character)\n"
      ],
      "metadata": {
        "colab": {
          "base_uri": "https://localhost:8080/"
        },
        "id": "yeBEZFFuoaos",
        "outputId": "cada88b3-7027-4d29-8c30-c1108b8f5e09"
      },
      "execution_count": 9,
      "outputs": [
        {
          "output_type": "stream",
          "name": "stdout",
          "text": [
            "P\n",
            "y\n",
            "t\n",
            "h\n",
            "o\n",
            "n\n"
          ]
        }
      ]
    },
    {
      "cell_type": "markdown",
      "source": [
        "args and Kwargs"
      ],
      "metadata": {
        "id": "ebv6C2RipOP6"
      }
    },
    {
      "cell_type": "code",
      "source": [
        "def add_numbers(*args):\n",
        "  sum = 0\n",
        "  for number in args:\n",
        "    sum += number\n",
        "  return sum\n"
      ],
      "metadata": {
        "id": "WaK0-VOfpQIe"
      },
      "execution_count": 10,
      "outputs": []
    },
    {
      "cell_type": "code",
      "source": [
        "add_numbers(2,4,5,6,7)"
      ],
      "metadata": {
        "colab": {
          "base_uri": "https://localhost:8080/"
        },
        "id": "CBCG2_Yxpsf5",
        "outputId": "b9862867-a3da-41af-cf6a-01e0e44d6662"
      },
      "execution_count": 13,
      "outputs": [
        {
          "output_type": "execute_result",
          "data": {
            "text/plain": [
              "24"
            ]
          },
          "metadata": {},
          "execution_count": 13
        }
      ]
    },
    {
      "cell_type": "code",
      "source": [
        "def print_info(**kwargs):\n",
        "  for key, value in kwargs.items():\n",
        "    print(key, \":\", value)\n"
      ],
      "metadata": {
        "id": "AtzoyFJGpfxo"
      },
      "execution_count": 11,
      "outputs": []
    },
    {
      "cell_type": "markdown",
      "source": [
        "lambda"
      ],
      "metadata": {
        "id": "7_oSttfzqW7Q"
      }
    },
    {
      "cell_type": "code",
      "source": [
        "square = lambda x: x * x\n",
        "\n"
      ],
      "metadata": {
        "colab": {
          "base_uri": "https://localhost:8080/"
        },
        "id": "sRVN-qemqYSY",
        "outputId": "efc5e9dd-3a22-44d8-9b10-e0f968c9e728"
      },
      "execution_count": 25,
      "outputs": [
        {
          "output_type": "stream",
          "name": "stdout",
          "text": [
            "<function <lambda> at 0x7a595d888e50>\n"
          ]
        }
      ]
    },
    {
      "cell_type": "code",
      "source": [
        "numbers = [1, 2, 3, 4, 5]\n",
        "squared_numbers = list(map(square, numbers))\n",
        "print(squared_numbers)\n"
      ],
      "metadata": {
        "colab": {
          "base_uri": "https://localhost:8080/"
        },
        "id": "_Hs2JgBRqg1F",
        "outputId": "03e975fa-8f92-4fb2-a767-1b5bfbfdadd2"
      },
      "execution_count": 26,
      "outputs": [
        {
          "output_type": "stream",
          "name": "stdout",
          "text": [
            "[1, 4, 9, 16, 25]\n"
          ]
        }
      ]
    },
    {
      "cell_type": "markdown",
      "source": [
        "Map"
      ],
      "metadata": {
        "id": "sQVEt1K5rGKH"
      }
    },
    {
      "cell_type": "code",
      "source": [
        "def double(number):\n",
        "  return number * 2\n"
      ],
      "metadata": {
        "id": "IbjNUZBEq-74"
      },
      "execution_count": 27,
      "outputs": []
    },
    {
      "cell_type": "code",
      "source": [
        "double(7)"
      ],
      "metadata": {
        "colab": {
          "base_uri": "https://localhost:8080/"
        },
        "id": "zU3Xe0xDrZu4",
        "outputId": "b9b1351b-c6e0-4067-a4e4-c1cb39999f24"
      },
      "execution_count": 28,
      "outputs": [
        {
          "output_type": "execute_result",
          "data": {
            "text/plain": [
              "14"
            ]
          },
          "metadata": {},
          "execution_count": 28
        }
      ]
    },
    {
      "cell_type": "code",
      "source": [
        "numbers = [1, 2, 3, 4, 5]\n",
        "doubled_numbers = list(map(double, numbers))\n",
        "print(doubled_numbers)\n"
      ],
      "metadata": {
        "colab": {
          "base_uri": "https://localhost:8080/"
        },
        "id": "6Q7kYBRpryql",
        "outputId": "8acafe60-aad8-48a5-9859-d7a6df2b4473"
      },
      "execution_count": 29,
      "outputs": [
        {
          "output_type": "stream",
          "name": "stdout",
          "text": [
            "[2, 4, 6, 8, 10]\n"
          ]
        }
      ]
    },
    {
      "cell_type": "markdown",
      "source": [
        "Filter"
      ],
      "metadata": {
        "id": "rtVarHnxrdAQ"
      }
    },
    {
      "cell_type": "code",
      "source": [
        "numbers = [1, 2, 3, 4, 5]\n",
        "even_numbers = list(filter(lambda x: x % 2 == 0, numbers))\n",
        "print(even_numbers)\n",
        "\n"
      ],
      "metadata": {
        "colab": {
          "base_uri": "https://localhost:8080/"
        },
        "id": "P6V594XGrfYf",
        "outputId": "5695e3e4-6ea1-43ee-d8f6-93235ba5a7ac"
      },
      "execution_count": 30,
      "outputs": [
        {
          "output_type": "stream",
          "name": "stdout",
          "text": [
            "[2, 4]\n"
          ]
        }
      ]
    },
    {
      "cell_type": "code",
      "source": [
        "def is_prime(number):\n",
        "  if number <= 1:\n",
        "    return False\n",
        "  for i in range(2, int(number**0.5) + 1):\n",
        "    if number % i == 0:\n",
        "      return False\n",
        "  return True\n"
      ],
      "metadata": {
        "id": "EDPj9sO1tMiO"
      },
      "execution_count": 31,
      "outputs": []
    },
    {
      "cell_type": "code",
      "source": [
        "is_prime(72)"
      ],
      "metadata": {
        "colab": {
          "base_uri": "https://localhost:8080/"
        },
        "id": "d2brrHrptQzQ",
        "outputId": "abd6dea0-d67a-4693-a90c-4e5761872385"
      },
      "execution_count": 32,
      "outputs": [
        {
          "output_type": "execute_result",
          "data": {
            "text/plain": [
              "False"
            ]
          },
          "metadata": {},
          "execution_count": 32
        }
      ]
    },
    {
      "cell_type": "code",
      "source": [
        "numbers = [1, 2, 3, 4, 5, 6, 7, 8, 9, 10]\n",
        "prime_numbers = list(filter(is_prime, numbers))\n",
        "print(prime_numbers)\n"
      ],
      "metadata": {
        "colab": {
          "base_uri": "https://localhost:8080/"
        },
        "id": "aTknASzqtUc1",
        "outputId": "fd8653fe-351b-4883-812b-679f46f46012"
      },
      "execution_count": 33,
      "outputs": [
        {
          "output_type": "stream",
          "name": "stdout",
          "text": [
            "[2, 3, 5, 7]\n"
          ]
        }
      ]
    },
    {
      "cell_type": "markdown",
      "source": [
        "All and Any"
      ],
      "metadata": {
        "id": "LlXyTC1StiFU"
      }
    },
    {
      "cell_type": "code",
      "source": [
        "def is_any_string_longer_than_8_characters(list1):\n",
        "  return any(len(element) > 8 for element in list1)\n",
        "\n",
        "list1 = [\"Hello\", \"World\", \"Python\"]\n",
        "\n",
        "if is_any_string_longer_than_8_characters(list1):\n",
        "  print(\"Any string in the list is longer than 8 characters.\")\n",
        "else:\n",
        "  print(\"No string in the list is longer than 8 characters.\")\n"
      ],
      "metadata": {
        "colab": {
          "base_uri": "https://localhost:8080/"
        },
        "id": "hDM5DGidtbeB",
        "outputId": "7567cce3-161b-488d-a6ba-3004c960223b"
      },
      "execution_count": 34,
      "outputs": [
        {
          "output_type": "stream",
          "name": "stdout",
          "text": [
            "No string in the list is longer than 8 characters.\n"
          ]
        }
      ]
    },
    {
      "cell_type": "code",
      "source": [
        "def are_all_elements_integers(list1):\n",
        "  return all(isinstance(element, int) for element in list1)\n",
        "\n",
        "list1 = [1, 2, 3, 4, 5]\n",
        "\n",
        "if are_all_elements_integers(list1):\n",
        "  print(\"All elements in the list are integers.\")\n",
        "else:\n",
        "  print(\"Not all elements in the list are integers.\")\n"
      ],
      "metadata": {
        "colab": {
          "base_uri": "https://localhost:8080/"
        },
        "id": "EXpzRWM7uOAg",
        "outputId": "27551c78-4675-44ed-929f-e5ffa5477e35"
      },
      "execution_count": 35,
      "outputs": [
        {
          "output_type": "stream",
          "name": "stdout",
          "text": [
            "All elements in the list are integers.\n"
          ]
        }
      ]
    }
  ]
}